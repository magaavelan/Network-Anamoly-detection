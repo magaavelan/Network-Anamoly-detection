{
 "cells": [
  {
   "cell_type": "code",
   "execution_count": 99,
   "metadata": {
    "_cell_guid": "b1076dfc-b9ad-4769-8c92-a6c4dae69d19",
    "_uuid": "8f2839f25d086af736a60e9eeb907d3b93b6e0e5",
    "execution": {
     "iopub.execute_input": "2025-01-25T06:22:56.992372Z",
     "iopub.status.busy": "2025-01-25T06:22:56.991960Z",
     "iopub.status.idle": "2025-01-25T06:22:57.002604Z",
     "shell.execute_reply": "2025-01-25T06:22:57.001303Z",
     "shell.execute_reply.started": "2025-01-25T06:22:56.992342Z"
    },
    "trusted": true
   },
   "outputs": [
    {
     "name": "stdout",
     "output_type": "stream",
     "text": [
      "/kaggle/input/network-traffic-dataset/Midterm_53_group.csv\n",
      "/kaggle/input/network-traffic-dataset/output1.csv\n"
     ]
    }
   ],
   "source": [
    "# This Python 3 environment comes with many helpful analytics libraries installed\n",
    "# It is defined by the kaggle/python Docker image: https://github.com/kaggle/docker-python\n",
    "# For example, here's several helpful packages to load\n",
    "\n",
    "import numpy as np # linear algebra\n",
    "import pandas as pd # data processing, CSV file I/O (e.g. pd.read_csv)\n",
    "\n",
    "# Input data files are available in the read-only \"../input/\" directory\n",
    "# For example, running this (by clicking run or pressing Shift+Enter) will list all files under the input directory\n",
    "\n",
    "import os\n",
    "for dirname, _, filenames in os.walk('/kaggle/input'):\n",
    "    for filename in filenames:\n",
    "        print(os.path.join(dirname, filename))\n",
    "\n",
    "# You can write up to 20GB to the current directory (/kaggle/working/) that gets preserved as output when you create a version using \"Save & Run All\" \n",
    "# You can also write temporary files to /kaggle/temp/, but they won't be saved outside of the current session"
   ]
  },
  {
   "cell_type": "markdown",
   "metadata": {},
   "source": [
    "# **Introduction**\n",
    "This is my first-ever machine learning project in the Networking domain, and I'm excited to dive into this challenging and fascinating field. As a beginner, I decided to focus on two critical areas: anomaly detection and network congestion prediction. Both of these techniques are essential in understanding and optimizing network performance.\n",
    "\n",
    "**Anomaly Detection:** This method is designed to identify unusual patterns in network traffic, which could indicate issues such as security breaches, hardware failures, or other unexpected events that disrupt normal network operation.\n",
    "\n",
    "**Network Congestion Prediction:** This method aims to predict when network congestion is likely to occur based on traffic patterns. This can help in proactive network management and ensure smoother operations.\n",
    "\n",
    "To make this project more manageable, I have implemented two separate methods for anomaly detection. Each method is handled individually to avoid conflicts when loading the dataset, as the dataset is the same for both methods. For convenience, I have included the dataset loading code in each method, ensuring that there are no overwriting issues between the methods.\n",
    "\n"
   ]
  },
  {
   "cell_type": "markdown",
   "metadata": {},
   "source": [
    "# **Load Dataset**"
   ]
  },
  {
   "cell_type": "markdown",
   "metadata": {},
   "source": []
  },
  {
   "cell_type": "code",
   "execution_count": 100,
   "metadata": {
    "execution": {
     "iopub.execute_input": "2025-01-25T06:22:57.552773Z",
     "iopub.status.busy": "2025-01-25T06:22:57.552426Z",
     "iopub.status.idle": "2025-01-25T06:22:58.383034Z",
     "shell.execute_reply": "2025-01-25T06:22:58.382020Z",
     "shell.execute_reply.started": "2025-01-25T06:22:57.552746Z"
    },
    "trusted": true
   },
   "outputs": [
    {
     "data": {
      "text/html": [
       "<div>\n",
       "<style scoped>\n",
       "    .dataframe tbody tr th:only-of-type {\n",
       "        vertical-align: middle;\n",
       "    }\n",
       "\n",
       "    .dataframe tbody tr th {\n",
       "        vertical-align: top;\n",
       "    }\n",
       "\n",
       "    .dataframe thead th {\n",
       "        text-align: right;\n",
       "    }\n",
       "</style>\n",
       "<table border=\"1\" class=\"dataframe\">\n",
       "  <thead>\n",
       "    <tr style=\"text-align: right;\">\n",
       "      <th></th>\n",
       "      <th>Time</th>\n",
       "      <th>Source</th>\n",
       "      <th>No.</th>\n",
       "      <th>Destination</th>\n",
       "      <th>Protocol</th>\n",
       "      <th>Length</th>\n",
       "      <th>Info</th>\n",
       "    </tr>\n",
       "  </thead>\n",
       "  <tbody>\n",
       "    <tr>\n",
       "      <th>0</th>\n",
       "      <td>0.000000</td>\n",
       "      <td>192.167.8.166</td>\n",
       "      <td>1</td>\n",
       "      <td>192.167.255.255</td>\n",
       "      <td>NBNS</td>\n",
       "      <td>92</td>\n",
       "      <td>Name query NB WPAD&lt;00&gt;</td>\n",
       "    </tr>\n",
       "    <tr>\n",
       "      <th>1</th>\n",
       "      <td>0.784682</td>\n",
       "      <td>192.167.8.166</td>\n",
       "      <td>2</td>\n",
       "      <td>192.167.255.255</td>\n",
       "      <td>NBNS</td>\n",
       "      <td>92</td>\n",
       "      <td>Name query NB WPAD&lt;00&gt;</td>\n",
       "    </tr>\n",
       "    <tr>\n",
       "      <th>2</th>\n",
       "      <td>1.169060</td>\n",
       "      <td>VMware_8a:5c:e6</td>\n",
       "      <td>3</td>\n",
       "      <td>Broadcast</td>\n",
       "      <td>ARP</td>\n",
       "      <td>60</td>\n",
       "      <td>Who has 192.167.7.175? Tell 192.167.0.1</td>\n",
       "    </tr>\n",
       "    <tr>\n",
       "      <th>3</th>\n",
       "      <td>2.167949</td>\n",
       "      <td>VMware_8a:5c:e6</td>\n",
       "      <td>4</td>\n",
       "      <td>Broadcast</td>\n",
       "      <td>ARP</td>\n",
       "      <td>60</td>\n",
       "      <td>Who has 192.167.7.175? Tell 192.167.0.1</td>\n",
       "    </tr>\n",
       "    <tr>\n",
       "      <th>4</th>\n",
       "      <td>3.170095</td>\n",
       "      <td>VMware_8a:5c:e6</td>\n",
       "      <td>5</td>\n",
       "      <td>Broadcast</td>\n",
       "      <td>ARP</td>\n",
       "      <td>60</td>\n",
       "      <td>Who has 192.167.7.175? Tell 192.167.0.1</td>\n",
       "    </tr>\n",
       "    <tr>\n",
       "      <th>...</th>\n",
       "      <td>...</td>\n",
       "      <td>...</td>\n",
       "      <td>...</td>\n",
       "      <td>...</td>\n",
       "      <td>...</td>\n",
       "      <td>...</td>\n",
       "      <td>...</td>\n",
       "    </tr>\n",
       "    <tr>\n",
       "      <th>394131</th>\n",
       "      <td>1255.897236</td>\n",
       "      <td>192.167.7.162</td>\n",
       "      <td>394132</td>\n",
       "      <td>192.167.7.164</td>\n",
       "      <td>ICMP</td>\n",
       "      <td>98</td>\n",
       "      <td>Echo (ping) request  id=0x6592, seq=1177/39172...</td>\n",
       "    </tr>\n",
       "    <tr>\n",
       "      <th>394132</th>\n",
       "      <td>1255.897921</td>\n",
       "      <td>192.167.7.164</td>\n",
       "      <td>394133</td>\n",
       "      <td>192.167.7.162</td>\n",
       "      <td>ICMP</td>\n",
       "      <td>98</td>\n",
       "      <td>Echo (ping) reply    id=0x6592, seq=1177/39172...</td>\n",
       "    </tr>\n",
       "    <tr>\n",
       "      <th>394133</th>\n",
       "      <td>1255.993209</td>\n",
       "      <td>192.167.7.162</td>\n",
       "      <td>394134</td>\n",
       "      <td>142.250.190.97</td>\n",
       "      <td>TCP</td>\n",
       "      <td>74</td>\n",
       "      <td>[TCP Retransmission] [TCP Port numbers reused]...</td>\n",
       "    </tr>\n",
       "    <tr>\n",
       "      <th>394134</th>\n",
       "      <td>1256.921232</td>\n",
       "      <td>192.167.7.162</td>\n",
       "      <td>394135</td>\n",
       "      <td>192.167.7.164</td>\n",
       "      <td>ICMP</td>\n",
       "      <td>98</td>\n",
       "      <td>Echo (ping) request  id=0x6592, seq=1178/39428...</td>\n",
       "    </tr>\n",
       "    <tr>\n",
       "      <th>394135</th>\n",
       "      <td>1256.922008</td>\n",
       "      <td>192.167.7.164</td>\n",
       "      <td>394136</td>\n",
       "      <td>192.167.7.162</td>\n",
       "      <td>ICMP</td>\n",
       "      <td>98</td>\n",
       "      <td>Echo (ping) reply    id=0x6592, seq=1178/39428...</td>\n",
       "    </tr>\n",
       "  </tbody>\n",
       "</table>\n",
       "<p>394136 rows × 7 columns</p>\n",
       "</div>"
      ],
      "text/plain": [
       "               Time           Source     No.      Destination Protocol  \\\n",
       "0          0.000000    192.167.8.166       1  192.167.255.255     NBNS   \n",
       "1          0.784682    192.167.8.166       2  192.167.255.255     NBNS   \n",
       "2          1.169060  VMware_8a:5c:e6       3        Broadcast      ARP   \n",
       "3          2.167949  VMware_8a:5c:e6       4        Broadcast      ARP   \n",
       "4          3.170095  VMware_8a:5c:e6       5        Broadcast      ARP   \n",
       "...             ...              ...     ...              ...      ...   \n",
       "394131  1255.897236    192.167.7.162  394132    192.167.7.164     ICMP   \n",
       "394132  1255.897921    192.167.7.164  394133    192.167.7.162     ICMP   \n",
       "394133  1255.993209    192.167.7.162  394134   142.250.190.97      TCP   \n",
       "394134  1256.921232    192.167.7.162  394135    192.167.7.164     ICMP   \n",
       "394135  1256.922008    192.167.7.164  394136    192.167.7.162     ICMP   \n",
       "\n",
       "        Length                                               Info  \n",
       "0           92                             Name query NB WPAD<00>  \n",
       "1           92                             Name query NB WPAD<00>  \n",
       "2           60            Who has 192.167.7.175? Tell 192.167.0.1  \n",
       "3           60            Who has 192.167.7.175? Tell 192.167.0.1  \n",
       "4           60            Who has 192.167.7.175? Tell 192.167.0.1  \n",
       "...        ...                                                ...  \n",
       "394131      98  Echo (ping) request  id=0x6592, seq=1177/39172...  \n",
       "394132      98  Echo (ping) reply    id=0x6592, seq=1177/39172...  \n",
       "394133      74  [TCP Retransmission] [TCP Port numbers reused]...  \n",
       "394134      98  Echo (ping) request  id=0x6592, seq=1178/39428...  \n",
       "394135      98  Echo (ping) reply    id=0x6592, seq=1178/39428...  \n",
       "\n",
       "[394136 rows x 7 columns]"
      ]
     },
     "execution_count": 100,
     "metadata": {},
     "output_type": "execute_result"
    }
   ],
   "source": [
    "traffic=pd.read_csv('/kaggle/input/network-traffic-dataset/Midterm_53_group.csv')\n",
    "traffic"
   ]
  },
  {
   "cell_type": "markdown",
   "metadata": {},
   "source": [
    "# **Method 1: Anomaly Detection using Isolation Forest**\n",
    "\n",
    "* \n",
    "In this cell, I implemented Anomaly Detection using the Isolation Forest algorithm. The goal is to identify unusual patterns or outliers in the network traffic data that might signify anomalies, such as security threats or network failures. Below is the step-by-step process of how this method works:\n",
    "**1. Data Preprocessing:**\n",
    "The Time column is converted to datetime format to extract the hour of the day.\n",
    "The Protocol column is encoded using categorical encoding (to convert protocols into numerical representations).\n",
    "The relevant features for anomaly detection are selected, including Length, protocol_encoded, hour, and No. (packet number).\n",
    "**2. Scaling Features:**\n",
    "Standard scaling is applied to the selected features to ensure that they are on the same scale, which is important for the effectiveness of the Isolation Forest algorithm.\n",
    "**3. Anomaly Detection:**\n",
    "The Isolation Forest algorithm is trained with the scaled data, using a contamination parameter of 0.1. This means that the model expects 10% of the data to be anomalies.\n",
    "The model assigns a label of -1 to anomalies and 1 to normal data.\n",
    "**4. Results and Output:**\n",
    "A new column is_anomaly is added to the dataset to indicate whether a record is classified as an anomaly (True) or not (False).\n",
    "The total number of anomalies detected is displayed, along with a breakdown of anomalies by protocol type.\n",
    "\n",
    "# **Total Anomalies:**\n",
    "\n",
    "A total of **39,400 anomalies** were detected across all network traffic records. This suggests that a significant portion of the data has been flagged as unusual by the model, which could indicate potential issues or interesting patterns.\n",
    "Anomalies by Protocol:\n",
    "\n",
    "The anomalies are grouped by the network protocol used, and the count of anomalies per protocol is shown.\n",
    "For example:\n",
    "**ARP** (Address Resolution Protocol) has 447 anomalies.\n",
    "**TLSv1.3** has 26,829 anomalies, which is the highest among the listed protocols. This might suggest that this protocol exhibits a higher frequency of unusual patterns in the dataset.\n",
    "Other protocols such as DNS, TCP, and ICMP also show notable anomaly counts."
   ]
  },
  {
   "cell_type": "code",
   "execution_count": 101,
   "metadata": {
    "execution": {
     "iopub.execute_input": "2025-01-25T06:22:58.384622Z",
     "iopub.status.busy": "2025-01-25T06:22:58.384329Z",
     "iopub.status.idle": "2025-01-25T06:23:15.004604Z",
     "shell.execute_reply": "2025-01-25T06:23:15.003431Z",
     "shell.execute_reply.started": "2025-01-25T06:22:58.384590Z"
    },
    "trusted": true
   },
   "outputs": [
    {
     "name": "stdout",
     "output_type": "stream",
     "text": [
      "Anomaly Detection Summary:\n",
      "Total Anomalies: 39400\n",
      "\n",
      "Anomalies by Protocol:\n",
      "Protocol\n",
      "ARP          447\n",
      "BROWSER        8\n",
      "DHCP          17\n",
      "DNS         1999\n",
      "HTTP           3\n",
      "ICMP        2690\n",
      "ICMPv6         9\n",
      "NBNS         231\n",
      "OCSP         258\n",
      "RARP         178\n",
      "TCP         5408\n",
      "TLSv1         10\n",
      "TLSv1.2     1313\n",
      "TLSv1.3    26829\n",
      "dtype: int64\n"
     ]
    }
   ],
   "source": [
    "import pandas as pd\n",
    "import numpy as np\n",
    "from sklearn.preprocessing import StandardScaler\n",
    "from sklearn.ensemble import IsolationForest\n",
    "from sklearn.model_selection import train_test_split\n",
    "\n",
    "def preprocess_network_data(traffic):\n",
    "    # Feature engineering for anomaly detection\n",
    "    traffic['Time'] = pd.to_datetime(traffic['Time'])\n",
    "    traffic['hour'] = traffic['Time'].dt.hour\n",
    "    traffic['protocol_encoded'] = traffic['Protocol'].astype('category').cat.codes\n",
    "    \n",
    "    # Aggregate features for anomaly detection\n",
    "    features = [\n",
    "        'Length', \n",
    "        'protocol_encoded', \n",
    "        'hour', \n",
    "        'No.'\n",
    "    ]\n",
    "    \n",
    "    return traffic[features]\n",
    "\n",
    "def detect_anomalies(traffic, contamination=0.1):\n",
    "    # Preprocess data\n",
    "    X = preprocess_network_data(traffic)\n",
    "    \n",
    "    # Scale features\n",
    "    scaler = StandardScaler()\n",
    "    X_scaled = scaler.fit_transform(X)\n",
    "    \n",
    "    # Isolation Forest for anomaly detection\n",
    "    detector = IsolationForest(\n",
    "        contamination=contamination, \n",
    "        random_state=42\n",
    "    )\n",
    "    \n",
    "    # Predict anomalies\n",
    "    anomaly_labels = detector.fit_predict(X_scaled)\n",
    "    \n",
    "    # Add anomaly column to original dataframe\n",
    "    traffic['is_anomaly'] = anomaly_labels == -1\n",
    "    \n",
    "    # Summary of anomalies\n",
    "    anomaly_summary = traffic[traffic['is_anomaly']].groupby('Protocol').size()\n",
    "    \n",
    "    print(\"Anomaly Detection Summary:\")\n",
    "    print(f\"Total Anomalies: {traffic['is_anomaly'].sum()}\")\n",
    "    print(\"\\nAnomalies by Protocol:\")\n",
    "    print(anomaly_summary)\n",
    "    \n",
    "    return traffic, detector, scaler\n",
    "\n",
    "# Load dataset\n",
    "traffic = pd.read_csv('/kaggle/input/network-traffic-dataset/Midterm_53_group.csv')\n",
    "\n",
    "# Detect anomalies\n",
    "annotated_traffic, model, scaler = detect_anomalies(traffic)\n",
    "\n",
    "def predict_new_anomaly(new_data):\n",
    "    # Preprocess new data similarly\n",
    "    processed_data = preprocess_network_data(new_data)\n",
    "    scaled_data = scaler.transform(processed_data)\n",
    "    \n",
    "    # Predict anomalies\n",
    "    predictions = model.predict(scaled_data)\n",
    "    return predictions == -1  # True for anomalies"
   ]
  },
  {
   "cell_type": "markdown",
   "metadata": {},
   "source": [
    "# **Method 2: Anomaly Detection using Isolation Forest with Aggregated Features**\n",
    "In this cell, I applied a second anomaly detection approach using Isolation Forest, utilizing aggregated features based on time windows and network protocols. This method focuses on analyzing traffic volume and packet counts over specific time windows and identifying any anomalies based on these patterns.\n",
    "The second anomaly detection method using Isolation Forest with aggregated features** didn’t detect any anomalies in the data**. This result suggests that either the model needs further tuning, or the data is relatively consistent and \n",
    "**doesn't contain obvious outliers.The visualizations might need to be adjusted based on the actual o**\n",
    "utput of the anomaly detection model. In case anomalies are detected in the future, the graph will show clear markers for the anomalous points.\n"
   ]
  },
  {
   "cell_type": "code",
   "execution_count": 65,
   "metadata": {
    "execution": {
     "iopub.execute_input": "2025-01-25T05:56:16.786701Z",
     "iopub.status.busy": "2025-01-25T05:56:16.786320Z",
     "iopub.status.idle": "2025-01-25T05:56:17.281737Z",
     "shell.execute_reply": "2025-01-25T05:56:17.280646Z",
     "shell.execute_reply.started": "2025-01-25T05:56:16.786661Z"
    },
    "trusted": true
   },
   "outputs": [
    {
     "name": "stdout",
     "output_type": "stream",
     "text": [
      "Anomalies count:\n",
      "anomaly\n",
      "0    1\n",
      "Name: count, dtype: int64\n",
      "\n",
      "Sample Results:\n",
      "   traffic_volume  packet_count  ARP  BROWSER  DHCP   DNS  HTTP  ICMP  ICMPv6  \\\n",
      "0      7482.39895        394136  447        8    17  1999     3  2690       9   \n",
      "\n",
      "   NBNS  OCSP  RARP  SSLv2  STUN     TCP  TLSv1  TLSv1.2  TLSv1.3  anomaly  \n",
      "0   231   258   178     11     4  314873     20     1763    71625        0  \n"
     ]
    },
    {
     "name": "stderr",
     "output_type": "stream",
     "text": [
      "/usr/local/lib/python3.10/dist-packages/sklearn/base.py:439: UserWarning: X does not have valid feature names, but IsolationForest was fitted with feature names\n",
      "  warnings.warn(\n"
     ]
    }
   ],
   "source": [
    "traffic=pd.read_csv('/kaggle/input/network-traffic-dataset/Midterm_53_group.csv')\n",
    "\n",
    "import pandas as pd\n",
    "from sklearn.ensemble import IsolationForest\n",
    "from sklearn.preprocessing import MinMaxScaler\n",
    "\n",
    "\n",
    "# Data Preprocessing\n",
    "traffic['Time'] = pd.to_datetime(traffic['Time'])  # Convert 'Time' to datetime\n",
    "traffic['protocol_encoded'] = traffic['Protocol'].astype('category').cat.codes  # Encode Protocol\n",
    "\n",
    "# Normalize the 'Length' column\n",
    "scaler = MinMaxScaler()\n",
    "traffic['Length'] = scaler.fit_transform(traffic[['Length']])\n",
    "\n",
    "# Feature Engineering: Time-based features\n",
    "traffic['time_window'] = traffic['Time'].dt.floor('10s')  # Group by 10-second intervals\n",
    "traffic['hour'] = traffic['Time'].dt.hour\n",
    "\n",
    "# Aggregating features by time window\n",
    "traffic_volume = traffic.groupby('time_window')['Length'].sum().reset_index(name='traffic_volume')\n",
    "packet_count = traffic.groupby('time_window').size().reset_index(name='packet_count')\n",
    "\n",
    "# Merge aggregated features\n",
    "traffic_features = pd.merge(traffic_volume, packet_count, on='time_window')\n",
    "\n",
    "# Adding protocol-based counts per window\n",
    "protocol_count = traffic.groupby(['time_window', 'Protocol']).size().unstack(fill_value=0).reset_index()\n",
    "traffic_features = pd.merge(traffic_features, protocol_count, on='time_window', how='left')\n",
    "\n",
    "# Prepare data for anomaly detection\n",
    "traffic_features = traffic_features.drop(columns=['time_window'])  # Drop time window for modeling\n",
    "traffic_features = traffic_features.fillna(0)  # Handle missing values\n",
    "\n",
    "# Isolation Forest for anomaly detection\n",
    "model = IsolationForest(contamination=0.05, random_state=42)  # Assuming 5% anomalies\n",
    "traffic_features['anomaly'] = model.fit_predict(traffic_features)\n",
    "\n",
    "# Labeling anomalies (1 for anomaly, 0 for normal)\n",
    "traffic_features['anomaly'] = traffic_features['anomaly'].apply(lambda x: 1 if x == -1 else 0)\n",
    "\n",
    "# Save the results\n",
    "traffic_features.to_csv('anomaly_detection_results.csv', index=False)\n",
    "\n",
    "# Summary\n",
    "print(\"Anomalies count:\")\n",
    "print(traffic_features['anomaly'].value_counts())\n",
    "print(\"\\nSample Results:\")\n",
    "print(traffic_features.head())\n"
   ]
  },
  {
   "cell_type": "code",
   "execution_count": 66,
   "metadata": {
    "execution": {
     "iopub.execute_input": "2025-01-25T05:56:23.042756Z",
     "iopub.status.busy": "2025-01-25T05:56:23.042403Z",
     "iopub.status.idle": "2025-01-25T05:56:23.308544Z",
     "shell.execute_reply": "2025-01-25T05:56:23.307385Z",
     "shell.execute_reply.started": "2025-01-25T05:56:23.042730Z"
    },
    "trusted": true
   },
   "outputs": [
    {
     "data": {
      "image/png": "[encoded data removed]",
      "text/plain": [
       "<Figure size 1200x600 with 1 Axes>"
      ]
     },
     "metadata": {},
     "output_type": "display_data"
    }
   ],
   "source": [
    "import matplotlib.pyplot as plt\n",
    "\n",
    "# Visualize traffic volume with anomalies\n",
    "plt.figure(figsize=(12, 6))\n",
    "plt.plot(traffic_features['traffic_volume'], label='Traffic Volume', alpha=0.7)\n",
    "plt.scatter(\n",
    "    traffic_features.index[traffic_features['anomaly'] == 1], \n",
    "    traffic_features['traffic_volume'][traffic_features['anomaly'] == 1], \n",
    "    color='red', label='Anomalies'\n",
    ")\n",
    "plt.legend()\n",
    "plt.title('Traffic Volume with Anomalies')\n",
    "plt.xlabel('Index')\n",
    "plt.ylabel('Traffic Volume')\n",
    "plt.show()\n"
   ]
  },
  {
   "cell_type": "code",
   "execution_count": 67,
   "metadata": {
    "execution": {
     "iopub.execute_input": "2025-01-25T05:56:27.851395Z",
     "iopub.status.busy": "2025-01-25T05:56:27.850999Z",
     "iopub.status.idle": "2025-01-25T05:56:29.160282Z",
     "shell.execute_reply": "2025-01-25T05:56:29.158775Z",
     "shell.execute_reply.started": "2025-01-25T05:56:27.851366Z"
    },
    "trusted": true
   },
   "outputs": [
    {
     "name": "stdout",
     "output_type": "stream",
     "text": [
      "   traffic_volume  packet_count  ARP  BROWSER  DHCP   DNS  HTTP  ICMP  ICMPv6  \\\n",
      "0      7482.39895        394136  447        8    17  1999     3  2690       9   \n",
      "\n",
      "   NBNS  OCSP  RARP  SSLv2  STUN     TCP  TLSv1  TLSv1.2  TLSv1.3  anomaly  \\\n",
      "0   231   258   178     11     4  314873     20     1763    71625        0   \n",
      "\n",
      "   result  \n",
      "0  Normal  \n"
     ]
    },
    {
     "name": "stderr",
     "output_type": "stream",
     "text": [
      "/usr/local/lib/python3.10/dist-packages/sklearn/base.py:439: UserWarning: X does not have valid feature names, but IsolationForest was fitted with feature names\n",
      "  warnings.warn(\n"
     ]
    }
   ],
   "source": [
    "import pandas as pd\n",
    "from sklearn.ensemble import IsolationForest\n",
    "from sklearn.preprocessing import MinMaxScaler\n",
    "\n",
    "# Define function for anomaly detection\n",
    "def detect_anomalies(file_path):\n",
    "    # Load uploaded CSV\n",
    "    traffic = pd.read_csv(file_path)\n",
    "    \n",
    "    # Preprocessing and feature engineering\n",
    "    traffic['Time'] = pd.to_datetime(traffic['Time'])\n",
    "    traffic['protocol_encoded'] = traffic['Protocol'].astype('category').cat.codes\n",
    "    scaler = MinMaxScaler()\n",
    "    traffic['Length'] = scaler.fit_transform(traffic[['Length']])\n",
    "    traffic['time_window'] = traffic['Time'].dt.floor('10s')\n",
    "    traffic_volume = traffic.groupby('time_window')['Length'].sum().reset_index(name='traffic_volume')\n",
    "    packet_count = traffic.groupby('time_window').size().reset_index(name='packet_count')\n",
    "    traffic_features = pd.merge(traffic_volume, packet_count, on='time_window')\n",
    "    protocol_count = traffic.groupby(['time_window', 'Protocol']).size().unstack(fill_value=0).reset_index()\n",
    "    traffic_features = pd.merge(traffic_features, protocol_count, on='time_window', how='left')\n",
    "    traffic_features = traffic_features.drop(columns=['time_window']).fillna(0)\n",
    "\n",
    "    # Isolation Forest\n",
    "    model = IsolationForest(contamination=0.05, random_state=42)\n",
    "    traffic_features['anomaly'] = model.fit_predict(traffic_features)\n",
    "    traffic_features['anomaly'] = traffic_features['anomaly'].apply(lambda x: 1 if x == -1 else 0)\n",
    "    \n",
    "    # Add a column for visual reference\n",
    "    traffic_features['result'] = traffic_features['anomaly'].replace({1: 'Anomaly', 0: 'Normal'})\n",
    "    return traffic_features\n",
    "\n",
    "# Example Usage\n",
    "file_path = \"/kaggle/input/network-traffic-dataset/Midterm_53_group.csv\"  # Replace with your dataset file path\n",
    "results = detect_anomalies(file_path)\n",
    "\n",
    "# Display results\n",
    "print(results.head())\n",
    "\n",
    "# Save results to CSV if needed\n",
    "results.to_csv(\"anomaly_detection_results.csv\", index=False)\n"
   ]
  },
  {
   "cell_type": "code",
   "execution_count": 68,
   "metadata": {
    "execution": {
     "iopub.execute_input": "2025-01-25T05:56:34.480922Z",
     "iopub.status.busy": "2025-01-25T05:56:34.480473Z",
     "iopub.status.idle": "2025-01-25T05:56:34.753550Z",
     "shell.execute_reply": "2025-01-25T05:56:34.752278Z",
     "shell.execute_reply.started": "2025-01-25T05:56:34.480889Z"
    },
    "trusted": true
   },
   "outputs": [
    {
     "data": {
      "image/png": "[encoded data removed]",
      "text/plain": [
       "<Figure size 1200x600 with 1 Axes>"
      ]
     },
     "metadata": {},
     "output_type": "display_data"
    }
   ],
   "source": [
    "import matplotlib.pyplot as plt\n",
    "\n",
    "# Visualize traffic volume with anomalies\n",
    "plt.figure(figsize=(12, 6))\n",
    "plt.plot(results['traffic_volume'], label='Traffic Volume', alpha=0.7)\n",
    "plt.scatter(\n",
    "    results.index[results['anomaly'] == 1], \n",
    "    results['traffic_volume'][results['anomaly'] == 1], \n",
    "    color='red', label='Anomalies'\n",
    ")\n",
    "plt.legend()\n",
    "plt.title('Traffic Volume with Anomalies')\n",
    "plt.xlabel('Index')\n",
    "plt.ylabel('Traffic Volume')\n",
    "plt.show()\n"
   ]
  },
  {
   "cell_type": "markdown",
   "metadata": {},
   "source": [
    "# **Congestion Detection Model**\n",
    "The model is designed to detect network congestion in traffic data by analyzing features like traffic volume, packet count, and time-based intervals. The goal is to predict whether a specific time window is congested or not.\n",
    "\n",
    "Evaluation Metrics:\n",
    "Confusion Matrix and Classification Report are used to assess the model's accuracy, precision, recall, and F1 score.\n",
    "\n",
    "**43 instances of normal traffic correctly predicted as normal.\n",
    "1 false positive: A congestion event incorrectly predicted as normal.\n",
    "7 instances of congestion correctly predicted as congested.\n",
    "0 false negatives: No congestion events missed.**\n",
    "\n",
    "Classification Report:\n",
    "\n",
    "**Precision for Class 0 (Normal Traffic): 1.00 (perfect precision).\n",
    "Recall for Class 1 (Congestion): 1.00 (perfect recall).\n",
    "Overall Accuracy: 98%, demonstrating the model's effectiveness\n",
    ".Macro Average: High F1 score and recall show good performance across both classes.**\n"
   ]
  },
  {
   "cell_type": "code",
   "execution_count": 97,
   "metadata": {
    "execution": {
     "iopub.execute_input": "2025-01-25T06:19:31.630863Z",
     "iopub.status.busy": "2025-01-25T06:19:31.630495Z",
     "iopub.status.idle": "2025-01-25T06:19:32.861712Z",
     "shell.execute_reply": "2025-01-25T06:19:32.860533Z",
     "shell.execute_reply.started": "2025-01-25T06:19:31.630835Z"
    },
    "trusted": true
   },
   "outputs": [
    {
     "name": "stdout",
     "output_type": "stream",
     "text": [
      "Confusion Matrix:\n",
      "[[43  1]\n",
      " [ 0  7]]\n",
      "\n",
      "Classification Report:\n",
      "              precision    recall  f1-score   support\n",
      "\n",
      "           0       1.00      0.98      0.99        44\n",
      "           1       0.88      1.00      0.93         7\n",
      "\n",
      "    accuracy                           0.98        51\n",
      "   macro avg       0.94      0.99      0.96        51\n",
      "weighted avg       0.98      0.98      0.98        51\n",
      "\n"
     ]
    }
   ],
   "source": [
    "import numpy as np\n",
    "import pandas as pd\n",
    "from sklearn.model_selection import train_test_split\n",
    "from sklearn.preprocessing import MinMaxScaler, StandardScaler\n",
    "from sklearn.ensemble import RandomForestClassifier\n",
    "from sklearn.metrics import classification_report, confusion_matrix\n",
    "\n",
    "def preprocess_network_data(traffic):\n",
    "    # Convert Time column to timedelta in seconds\n",
    "    traffic['Time'] = pd.to_timedelta(traffic['Time'], unit='s')\n",
    "    \n",
    "    # Create time-based features\n",
    "    traffic['hour'] = traffic['Time'].dt.seconds // 3600  # Extract hours (0-23 range for analysis)\n",
    "    traffic['minute'] = (traffic['Time'].dt.seconds // 60) % 60  # Extract minutes (0-59 range)\n",
    "    \n",
    "    # Create a time window feature with a 10-second interval\n",
    "    traffic['time_window'] = (traffic['Time'].dt.total_seconds() // 10).astype(int)\n",
    "    \n",
    "    # Aggregate features by time window\n",
    "    traffic_volume = traffic.groupby('time_window').agg({\n",
    "        'Length': ['sum', 'mean', 'max'],\n",
    "        'No.': 'count'\n",
    "    }).reset_index()\n",
    "    \n",
    "    # Rename columns for clarity\n",
    "    traffic_volume.columns = ['time_window', 'total_length', 'avg_length', 'max_length', 'packet_count']\n",
    "    \n",
    "    # Use percentile-based thresholds to label congestion\n",
    "    total_length_threshold = traffic_volume['total_length'].quantile(0.85)  # Top 15% total_length\n",
    "    packet_count_threshold = traffic_volume['packet_count'].quantile(0.85)  # Top 15% packet_count\n",
    "    \n",
    "    # Define congestion as a binary label\n",
    "    traffic_volume['congestion'] = (\n",
    "        (traffic_volume['total_length'] > total_length_threshold) & \n",
    "        (traffic_volume['packet_count'] > packet_count_threshold)\n",
    "    ).astype(int)\n",
    "    \n",
    "    return traffic_volume\n",
    "\n",
    "def prepare_features(traffic_volume):\n",
    "    # Define feature columns\n",
    "    features = ['total_length', 'avg_length', 'max_length', 'packet_count']\n",
    "    X = traffic_volume[features]\n",
    "    y = traffic_volume['congestion']\n",
    "    \n",
    "    # Scale features for better model performance\n",
    "    scaler = StandardScaler()\n",
    "    X_scaled = scaler.fit_transform(X)\n",
    "    \n",
    "    return X_scaled, y\n",
    "\n",
    "def train_congestion_model(X, y):\n",
    "    # Split dataset into training and testing sets (40% for testing, stratified on target labels)\n",
    "    X_train, X_test, y_train, y_test = train_test_split(\n",
    "        X, y, test_size=0.4, stratify=y, random_state=42\n",
    "    )\n",
    "    \n",
    "    # Train a Random Forest Classifier with class weights to handle class imbalance\n",
    "    model = RandomForestClassifier(\n",
    "        n_estimators=100, \n",
    "        class_weight='balanced', \n",
    "        random_state=42\n",
    "    )\n",
    "    \n",
    "    model.fit(X_train, y_train)\n",
    "    \n",
    "    # Predict and evaluate model performance\n",
    "    y_pred = model.predict(X_test)\n",
    "    \n",
    "    print(\"Confusion Matrix:\")\n",
    "    print(confusion_matrix(y_test, y_pred))\n",
    "    print(\"\\nClassification Report:\")\n",
    "    print(classification_report(y_test, y_pred))\n",
    "    \n",
    "    return model\n",
    "\n",
    "def main(traffic):\n",
    "    # Preprocess network traffic data\n",
    "    traffic_volume = preprocess_network_data(traffic)\n",
    "    \n",
    "    # Prepare features and target labels\n",
    "    X, y = prepare_features(traffic_volume)\n",
    "    \n",
    "    # Train the model and evaluate its performance\n",
    "    model = train_congestion_model(X, y)\n",
    "    \n",
    "    return model\n",
    "\n",
    "# Example Usage\n",
    "# Ensure the dataset (traffic) has the necessary columns: Time, Length, Protocol, No., etc.\n",
    "traffic = pd.read_csv(\"/kaggle/input/network-traffic-dataset/Midterm_53_group.csv\")  # Replace with your dataset path\n",
    "model = main(traffic)\n"
   ]
  },
  {
   "cell_type": "code",
   "execution_count": 98,
   "metadata": {
    "execution": {
     "iopub.execute_input": "2025-01-25T06:21:36.820920Z",
     "iopub.status.busy": "2025-01-25T06:21:36.820560Z",
     "iopub.status.idle": "2025-01-25T06:21:36.827607Z",
     "shell.execute_reply": "2025-01-25T06:21:36.826369Z",
     "shell.execute_reply.started": "2025-01-25T06:21:36.820894Z"
    },
    "trusted": true
   },
   "outputs": [
    {
     "data": {
      "text/plain": [
       "array([1, 1, 1, ..., 1, 1, 1])"
      ]
     },
     "execution_count": 98,
     "metadata": {},
     "output_type": "execute_result"
    }
   ],
   "source": [
    "y_pred"
   ]
  },
  {
   "cell_type": "code",
   "execution_count": null,
   "metadata": {
    "trusted": true
   },
   "outputs": [],
   "source": []
  }
 ],
 "metadata": {
  "kaggle": {
   "accelerator": "none",
   "dataSources": [
    {
     "datasetId": 3932483,
     "sourceId": 6840820,
     "sourceType": "datasetVersion"
    }
   ],
   "dockerImageVersionId": 30839,
   "isGpuEnabled": false,
   "isInternetEnabled": true,
   "language": "python",
   "sourceType": "notebook"
  },
  "kernelspec": {
   "display_name": "Python 3",
   "language": "python",
   "name": "python3"
  },
  "language_info": {
   "codemirror_mode": {
    "name": "ipython",
    "version": 3
   },
   "file_extension": ".py",
   "mimetype": "text/x-python",
   "name": "python",
   "nbconvert_exporter": "python",
   "pygments_lexer": "ipython3",
   "version": "3.10.12"
  }
 },
 "nbformat": 4,
 "nbformat_minor": 4
}
